{
  "nbformat": 4,
  "nbformat_minor": 0,
  "metadata": {
    "colab": {
      "name": "PricePrediction.ipynb",
      "provenance": [],
      "collapsed_sections": [],
      "authorship_tag": "ABX9TyMIoFP5W/00VvHTPfem/B6L",
      "include_colab_link": true
    },
    "kernelspec": {
      "name": "python3",
      "display_name": "Python 3"
    },
    "language_info": {
      "name": "python"
    }
  },
  "cells": [
    {
      "cell_type": "markdown",
      "metadata": {
        "id": "view-in-github",
        "colab_type": "text"
      },
      "source": [
        "<a href=\"https://colab.research.google.com/github/gokuno1/Excel/blob/new/PricePrediction.ipynb\" target=\"_parent\"><img src=\"https://colab.research.google.com/assets/colab-badge.svg\" alt=\"Open In Colab\"/></a>"
      ]
    },
    {
      "cell_type": "code",
      "metadata": {
        "id": "2OZcW9xg3uie"
      },
      "source": [
        "from sklearn.svm import SVR\n",
        "import pandas as pd\n",
        "import numpy as np\n",
        "import matplotlib.pyplot as plt\n",
        "plt.style.use('fivethirtyeight')"
      ],
      "execution_count": 28,
      "outputs": []
    },
    {
      "cell_type": "code",
      "metadata": {
        "colab": {
          "resources": {
            "http://localhost:8080/nbextensions/google.colab/files.js": {
              "data": "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",
              "ok": true,
              "headers": [
                [
                  "content-type",
                  "application/javascript"
                ]
              ],
              "status": 200,
              "status_text": ""
            }
          },
          "base_uri": "https://localhost:8080/",
          "height": 111
        },
        "id": "niOrpJWk4HZR",
        "outputId": "8ffaae5a-94c7-4281-aaaf-0f4a2670eca7"
      },
      "source": [
        "#Load the data\n",
        "from google.colab import files\n",
        "files.upload()"
      ],
      "execution_count": 29,
      "outputs": [
        {
          "output_type": "display_data",
          "data": {
            "text/html": [
              "\n",
              "     <input type=\"file\" id=\"files-8f4c97ce-9a59-4be6-a98b-03972f713ad5\" name=\"files[]\" multiple disabled\n",
              "        style=\"border:none\" />\n",
              "     <output id=\"result-8f4c97ce-9a59-4be6-a98b-03972f713ad5\">\n",
              "      Upload widget is only available when the cell has been executed in the\n",
              "      current browser session. Please rerun this cell to enable.\n",
              "      </output>\n",
              "      <script src=\"/nbextensions/google.colab/files.js\"></script> "
            ],
            "text/plain": [
              "<IPython.core.display.HTML object>"
            ]
          },
          "metadata": {
            "tags": []
          }
        },
        {
          "output_type": "stream",
          "text": [
            "Saving IOC.csv to IOC (1).csv\n"
          ],
          "name": "stdout"
        },
        {
          "output_type": "execute_result",
          "data": {
            "text/plain": [
              "{'IOC.csv': b'Date,Close Pirce,EMA,RSI,OBV,ADX,MACD,STCH MTM,M FLOW,,\\r\\n4/16/2021,90.15,94.63,41,395000000,31,-1.5,-28,43,,\\r\\n4/19/2021,88.1,94.37,37,379000000,32,-2.3,-33,46,,\\r\\n4/20/2021,87.8,94.12,37.02,368000000,31.81,-2.26,-46.35,53.49,,\\r\\n4/22/2021,87.85,93.87,37,378000000,33,-2.4,-52,57,,\\r\\n4/26/2021,88.2,93.43,38.11,393000000,31.14,-2.22,-50.33,53.25,,\\r\\n4/27/2021,88.9,93.25,40.82,402000000,30.61,-2.19,-49.84,61.16,,\\r\\n4/28/2021,89.3,93.09,42.39,408000000,29.82,-2.06,-46.85,66.83,,\\r\\n4/29/2021,88.75,92.92,40.9,399000000,28.48,-1.81,-42.37,60.14,,\\r\\n5/3/2021,91.5,92.8,50.83,443000000,25.69,-1.33,-26.04,75.5,,\\r\\n5/4/2021,91.5,92.8,50.84,457000000,25.16,-1.08,-16.98,86.11,,\\r\\n5/5/2021,92.35,92.84,53.83,451000000,24.67,-0.96,-7.56,86.72,,\\r\\n5/6/2021,92.75,92.84,55.24,465000000,29.11,-0.72,2.24,86.68,,\\r\\n5/7/2021,94.7,92.79,61.32,484000000,24.89,-0.36,12.62,87.31,,\\r\\n5/10/2021,99.2,93.04,71.03,521000000,26.37,0.38,24.06,95.71,,\\r\\n5/11/2021,103.55,93.45,77.04,598000000,28.8,1.23,34.78,96.83,,\\r\\n5/12/2021,102.7,93.82,73.46,559000000,31.35,1.82,42.39,100,,\\r\\n'}"
            ]
          },
          "metadata": {
            "tags": []
          },
          "execution_count": 29
        }
      ]
    },
    {
      "cell_type": "code",
      "metadata": {
        "colab": {
          "base_uri": "https://localhost:8080/",
          "height": 521
        },
        "id": "-44d_rsXEPJy",
        "outputId": "094391ff-f234-4f23-e55a-f7752b1142a7"
      },
      "source": [
        "df = pd.read_csv('IOC.csv')\n",
        "df"
      ],
      "execution_count": 30,
      "outputs": [
        {
          "output_type": "execute_result",
          "data": {
            "text/html": [
              "<div>\n",
              "<style scoped>\n",
              "    .dataframe tbody tr th:only-of-type {\n",
              "        vertical-align: middle;\n",
              "    }\n",
              "\n",
              "    .dataframe tbody tr th {\n",
              "        vertical-align: top;\n",
              "    }\n",
              "\n",
              "    .dataframe thead th {\n",
              "        text-align: right;\n",
              "    }\n",
              "</style>\n",
              "<table border=\"1\" class=\"dataframe\">\n",
              "  <thead>\n",
              "    <tr style=\"text-align: right;\">\n",
              "      <th></th>\n",
              "      <th>Date</th>\n",
              "      <th>Close Pirce</th>\n",
              "      <th>EMA</th>\n",
              "      <th>RSI</th>\n",
              "      <th>OBV</th>\n",
              "      <th>ADX</th>\n",
              "      <th>MACD</th>\n",
              "      <th>STCH MTM</th>\n",
              "      <th>M FLOW</th>\n",
              "      <th>Unnamed: 9</th>\n",
              "      <th>Unnamed: 10</th>\n",
              "    </tr>\n",
              "  </thead>\n",
              "  <tbody>\n",
              "    <tr>\n",
              "      <th>0</th>\n",
              "      <td>4/16/2021</td>\n",
              "      <td>90.15</td>\n",
              "      <td>94.63</td>\n",
              "      <td>41.00</td>\n",
              "      <td>395000000</td>\n",
              "      <td>31.00</td>\n",
              "      <td>-1.50</td>\n",
              "      <td>-28.00</td>\n",
              "      <td>43.00</td>\n",
              "      <td>NaN</td>\n",
              "      <td>NaN</td>\n",
              "    </tr>\n",
              "    <tr>\n",
              "      <th>1</th>\n",
              "      <td>4/19/2021</td>\n",
              "      <td>88.10</td>\n",
              "      <td>94.37</td>\n",
              "      <td>37.00</td>\n",
              "      <td>379000000</td>\n",
              "      <td>32.00</td>\n",
              "      <td>-2.30</td>\n",
              "      <td>-33.00</td>\n",
              "      <td>46.00</td>\n",
              "      <td>NaN</td>\n",
              "      <td>NaN</td>\n",
              "    </tr>\n",
              "    <tr>\n",
              "      <th>2</th>\n",
              "      <td>4/20/2021</td>\n",
              "      <td>87.80</td>\n",
              "      <td>94.12</td>\n",
              "      <td>37.02</td>\n",
              "      <td>368000000</td>\n",
              "      <td>31.81</td>\n",
              "      <td>-2.26</td>\n",
              "      <td>-46.35</td>\n",
              "      <td>53.49</td>\n",
              "      <td>NaN</td>\n",
              "      <td>NaN</td>\n",
              "    </tr>\n",
              "    <tr>\n",
              "      <th>3</th>\n",
              "      <td>4/22/2021</td>\n",
              "      <td>87.85</td>\n",
              "      <td>93.87</td>\n",
              "      <td>37.00</td>\n",
              "      <td>378000000</td>\n",
              "      <td>33.00</td>\n",
              "      <td>-2.40</td>\n",
              "      <td>-52.00</td>\n",
              "      <td>57.00</td>\n",
              "      <td>NaN</td>\n",
              "      <td>NaN</td>\n",
              "    </tr>\n",
              "    <tr>\n",
              "      <th>4</th>\n",
              "      <td>4/26/2021</td>\n",
              "      <td>88.20</td>\n",
              "      <td>93.43</td>\n",
              "      <td>38.11</td>\n",
              "      <td>393000000</td>\n",
              "      <td>31.14</td>\n",
              "      <td>-2.22</td>\n",
              "      <td>-50.33</td>\n",
              "      <td>53.25</td>\n",
              "      <td>NaN</td>\n",
              "      <td>NaN</td>\n",
              "    </tr>\n",
              "    <tr>\n",
              "      <th>5</th>\n",
              "      <td>4/27/2021</td>\n",
              "      <td>88.90</td>\n",
              "      <td>93.25</td>\n",
              "      <td>40.82</td>\n",
              "      <td>402000000</td>\n",
              "      <td>30.61</td>\n",
              "      <td>-2.19</td>\n",
              "      <td>-49.84</td>\n",
              "      <td>61.16</td>\n",
              "      <td>NaN</td>\n",
              "      <td>NaN</td>\n",
              "    </tr>\n",
              "    <tr>\n",
              "      <th>6</th>\n",
              "      <td>4/28/2021</td>\n",
              "      <td>89.30</td>\n",
              "      <td>93.09</td>\n",
              "      <td>42.39</td>\n",
              "      <td>408000000</td>\n",
              "      <td>29.82</td>\n",
              "      <td>-2.06</td>\n",
              "      <td>-46.85</td>\n",
              "      <td>66.83</td>\n",
              "      <td>NaN</td>\n",
              "      <td>NaN</td>\n",
              "    </tr>\n",
              "    <tr>\n",
              "      <th>7</th>\n",
              "      <td>4/29/2021</td>\n",
              "      <td>88.75</td>\n",
              "      <td>92.92</td>\n",
              "      <td>40.90</td>\n",
              "      <td>399000000</td>\n",
              "      <td>28.48</td>\n",
              "      <td>-1.81</td>\n",
              "      <td>-42.37</td>\n",
              "      <td>60.14</td>\n",
              "      <td>NaN</td>\n",
              "      <td>NaN</td>\n",
              "    </tr>\n",
              "    <tr>\n",
              "      <th>8</th>\n",
              "      <td>5/3/2021</td>\n",
              "      <td>91.50</td>\n",
              "      <td>92.80</td>\n",
              "      <td>50.83</td>\n",
              "      <td>443000000</td>\n",
              "      <td>25.69</td>\n",
              "      <td>-1.33</td>\n",
              "      <td>-26.04</td>\n",
              "      <td>75.50</td>\n",
              "      <td>NaN</td>\n",
              "      <td>NaN</td>\n",
              "    </tr>\n",
              "    <tr>\n",
              "      <th>9</th>\n",
              "      <td>5/4/2021</td>\n",
              "      <td>91.50</td>\n",
              "      <td>92.80</td>\n",
              "      <td>50.84</td>\n",
              "      <td>457000000</td>\n",
              "      <td>25.16</td>\n",
              "      <td>-1.08</td>\n",
              "      <td>-16.98</td>\n",
              "      <td>86.11</td>\n",
              "      <td>NaN</td>\n",
              "      <td>NaN</td>\n",
              "    </tr>\n",
              "    <tr>\n",
              "      <th>10</th>\n",
              "      <td>5/5/2021</td>\n",
              "      <td>92.35</td>\n",
              "      <td>92.84</td>\n",
              "      <td>53.83</td>\n",
              "      <td>451000000</td>\n",
              "      <td>24.67</td>\n",
              "      <td>-0.96</td>\n",
              "      <td>-7.56</td>\n",
              "      <td>86.72</td>\n",
              "      <td>NaN</td>\n",
              "      <td>NaN</td>\n",
              "    </tr>\n",
              "    <tr>\n",
              "      <th>11</th>\n",
              "      <td>5/6/2021</td>\n",
              "      <td>92.75</td>\n",
              "      <td>92.84</td>\n",
              "      <td>55.24</td>\n",
              "      <td>465000000</td>\n",
              "      <td>29.11</td>\n",
              "      <td>-0.72</td>\n",
              "      <td>2.24</td>\n",
              "      <td>86.68</td>\n",
              "      <td>NaN</td>\n",
              "      <td>NaN</td>\n",
              "    </tr>\n",
              "    <tr>\n",
              "      <th>12</th>\n",
              "      <td>5/7/2021</td>\n",
              "      <td>94.70</td>\n",
              "      <td>92.79</td>\n",
              "      <td>61.32</td>\n",
              "      <td>484000000</td>\n",
              "      <td>24.89</td>\n",
              "      <td>-0.36</td>\n",
              "      <td>12.62</td>\n",
              "      <td>87.31</td>\n",
              "      <td>NaN</td>\n",
              "      <td>NaN</td>\n",
              "    </tr>\n",
              "    <tr>\n",
              "      <th>13</th>\n",
              "      <td>5/10/2021</td>\n",
              "      <td>99.20</td>\n",
              "      <td>93.04</td>\n",
              "      <td>71.03</td>\n",
              "      <td>521000000</td>\n",
              "      <td>26.37</td>\n",
              "      <td>0.38</td>\n",
              "      <td>24.06</td>\n",
              "      <td>95.71</td>\n",
              "      <td>NaN</td>\n",
              "      <td>NaN</td>\n",
              "    </tr>\n",
              "    <tr>\n",
              "      <th>14</th>\n",
              "      <td>5/11/2021</td>\n",
              "      <td>103.55</td>\n",
              "      <td>93.45</td>\n",
              "      <td>77.04</td>\n",
              "      <td>598000000</td>\n",
              "      <td>28.80</td>\n",
              "      <td>1.23</td>\n",
              "      <td>34.78</td>\n",
              "      <td>96.83</td>\n",
              "      <td>NaN</td>\n",
              "      <td>NaN</td>\n",
              "    </tr>\n",
              "    <tr>\n",
              "      <th>15</th>\n",
              "      <td>5/12/2021</td>\n",
              "      <td>102.70</td>\n",
              "      <td>93.82</td>\n",
              "      <td>73.46</td>\n",
              "      <td>559000000</td>\n",
              "      <td>31.35</td>\n",
              "      <td>1.82</td>\n",
              "      <td>42.39</td>\n",
              "      <td>100.00</td>\n",
              "      <td>NaN</td>\n",
              "      <td>NaN</td>\n",
              "    </tr>\n",
              "  </tbody>\n",
              "</table>\n",
              "</div>"
            ],
            "text/plain": [
              "         Date  Close Pirce    EMA  ...  M FLOW  Unnamed: 9  Unnamed: 10\n",
              "0   4/16/2021        90.15  94.63  ...   43.00         NaN          NaN\n",
              "1   4/19/2021        88.10  94.37  ...   46.00         NaN          NaN\n",
              "2   4/20/2021        87.80  94.12  ...   53.49         NaN          NaN\n",
              "3   4/22/2021        87.85  93.87  ...   57.00         NaN          NaN\n",
              "4   4/26/2021        88.20  93.43  ...   53.25         NaN          NaN\n",
              "5   4/27/2021        88.90  93.25  ...   61.16         NaN          NaN\n",
              "6   4/28/2021        89.30  93.09  ...   66.83         NaN          NaN\n",
              "7   4/29/2021        88.75  92.92  ...   60.14         NaN          NaN\n",
              "8    5/3/2021        91.50  92.80  ...   75.50         NaN          NaN\n",
              "9    5/4/2021        91.50  92.80  ...   86.11         NaN          NaN\n",
              "10   5/5/2021        92.35  92.84  ...   86.72         NaN          NaN\n",
              "11   5/6/2021        92.75  92.84  ...   86.68         NaN          NaN\n",
              "12   5/7/2021        94.70  92.79  ...   87.31         NaN          NaN\n",
              "13  5/10/2021        99.20  93.04  ...   95.71         NaN          NaN\n",
              "14  5/11/2021       103.55  93.45  ...   96.83         NaN          NaN\n",
              "15  5/12/2021       102.70  93.82  ...  100.00         NaN          NaN\n",
              "\n",
              "[16 rows x 11 columns]"
            ]
          },
          "metadata": {
            "tags": []
          },
          "execution_count": 30
        }
      ]
    },
    {
      "cell_type": "code",
      "metadata": {
        "colab": {
          "base_uri": "https://localhost:8080/",
          "height": 77
        },
        "id": "EDbwltbMEoN2",
        "outputId": "d26cd7e1-539a-4a81-c8e7-7da0e8a99b9a"
      },
      "source": [
        "#Show and store last line of data\n",
        "actual_price = df.tail(1)\n",
        "#print data\n",
        "actual_price\n"
      ],
      "execution_count": null,
      "outputs": [
        {
          "output_type": "execute_result",
          "data": {
            "text/html": [
              "<div>\n",
              "<style scoped>\n",
              "    .dataframe tbody tr th:only-of-type {\n",
              "        vertical-align: middle;\n",
              "    }\n",
              "\n",
              "    .dataframe tbody tr th {\n",
              "        vertical-align: top;\n",
              "    }\n",
              "\n",
              "    .dataframe thead th {\n",
              "        text-align: right;\n",
              "    }\n",
              "</style>\n",
              "<table border=\"1\" class=\"dataframe\">\n",
              "  <thead>\n",
              "    <tr style=\"text-align: right;\">\n",
              "      <th></th>\n",
              "      <th>Date</th>\n",
              "      <th>Close Pirce</th>\n",
              "      <th>EMA</th>\n",
              "      <th>RSI</th>\n",
              "      <th>OBV</th>\n",
              "      <th>ADX</th>\n",
              "      <th>MACD</th>\n",
              "      <th>STCH MTM</th>\n",
              "      <th>M FLOW</th>\n",
              "      <th>Unnamed: 9</th>\n",
              "      <th>Unnamed: 10</th>\n",
              "    </tr>\n",
              "  </thead>\n",
              "  <tbody>\n",
              "    <tr>\n",
              "      <th>15</th>\n",
              "      <td>5/12/2021</td>\n",
              "      <td>102.7</td>\n",
              "      <td>93.82</td>\n",
              "      <td>73.46</td>\n",
              "      <td>559000000</td>\n",
              "      <td>31.35</td>\n",
              "      <td>1.82</td>\n",
              "      <td>42.39</td>\n",
              "      <td>100.0</td>\n",
              "      <td>NaN</td>\n",
              "      <td>NaN</td>\n",
              "    </tr>\n",
              "  </tbody>\n",
              "</table>\n",
              "</div>"
            ],
            "text/plain": [
              "         Date  Close Pirce    EMA  ...  M FLOW  Unnamed: 9  Unnamed: 10\n",
              "15  5/12/2021        102.7  93.82  ...   100.0         NaN          NaN\n",
              "\n",
              "[1 rows x 11 columns]"
            ]
          },
          "metadata": {
            "tags": []
          },
          "execution_count": 4
        }
      ]
    },
    {
      "cell_type": "code",
      "metadata": {
        "colab": {
          "base_uri": "https://localhost:8080/",
          "height": 491
        },
        "id": "dYTL8fW7GPbi",
        "outputId": "9b66af49-4bc7-4562-c80b-0935cddafa38"
      },
      "source": [
        "#Remove last line and show remaining data\n",
        "df = df.head(len(df)-1)\n",
        "df"
      ],
      "execution_count": 31,
      "outputs": [
        {
          "output_type": "execute_result",
          "data": {
            "text/html": [
              "<div>\n",
              "<style scoped>\n",
              "    .dataframe tbody tr th:only-of-type {\n",
              "        vertical-align: middle;\n",
              "    }\n",
              "\n",
              "    .dataframe tbody tr th {\n",
              "        vertical-align: top;\n",
              "    }\n",
              "\n",
              "    .dataframe thead th {\n",
              "        text-align: right;\n",
              "    }\n",
              "</style>\n",
              "<table border=\"1\" class=\"dataframe\">\n",
              "  <thead>\n",
              "    <tr style=\"text-align: right;\">\n",
              "      <th></th>\n",
              "      <th>Date</th>\n",
              "      <th>Close Pirce</th>\n",
              "      <th>EMA</th>\n",
              "      <th>RSI</th>\n",
              "      <th>OBV</th>\n",
              "      <th>ADX</th>\n",
              "      <th>MACD</th>\n",
              "      <th>STCH MTM</th>\n",
              "      <th>M FLOW</th>\n",
              "      <th>Unnamed: 9</th>\n",
              "      <th>Unnamed: 10</th>\n",
              "    </tr>\n",
              "  </thead>\n",
              "  <tbody>\n",
              "    <tr>\n",
              "      <th>0</th>\n",
              "      <td>4/16/2021</td>\n",
              "      <td>90.15</td>\n",
              "      <td>94.63</td>\n",
              "      <td>41.00</td>\n",
              "      <td>395000000</td>\n",
              "      <td>31.00</td>\n",
              "      <td>-1.50</td>\n",
              "      <td>-28.00</td>\n",
              "      <td>43.00</td>\n",
              "      <td>NaN</td>\n",
              "      <td>NaN</td>\n",
              "    </tr>\n",
              "    <tr>\n",
              "      <th>1</th>\n",
              "      <td>4/19/2021</td>\n",
              "      <td>88.10</td>\n",
              "      <td>94.37</td>\n",
              "      <td>37.00</td>\n",
              "      <td>379000000</td>\n",
              "      <td>32.00</td>\n",
              "      <td>-2.30</td>\n",
              "      <td>-33.00</td>\n",
              "      <td>46.00</td>\n",
              "      <td>NaN</td>\n",
              "      <td>NaN</td>\n",
              "    </tr>\n",
              "    <tr>\n",
              "      <th>2</th>\n",
              "      <td>4/20/2021</td>\n",
              "      <td>87.80</td>\n",
              "      <td>94.12</td>\n",
              "      <td>37.02</td>\n",
              "      <td>368000000</td>\n",
              "      <td>31.81</td>\n",
              "      <td>-2.26</td>\n",
              "      <td>-46.35</td>\n",
              "      <td>53.49</td>\n",
              "      <td>NaN</td>\n",
              "      <td>NaN</td>\n",
              "    </tr>\n",
              "    <tr>\n",
              "      <th>3</th>\n",
              "      <td>4/22/2021</td>\n",
              "      <td>87.85</td>\n",
              "      <td>93.87</td>\n",
              "      <td>37.00</td>\n",
              "      <td>378000000</td>\n",
              "      <td>33.00</td>\n",
              "      <td>-2.40</td>\n",
              "      <td>-52.00</td>\n",
              "      <td>57.00</td>\n",
              "      <td>NaN</td>\n",
              "      <td>NaN</td>\n",
              "    </tr>\n",
              "    <tr>\n",
              "      <th>4</th>\n",
              "      <td>4/26/2021</td>\n",
              "      <td>88.20</td>\n",
              "      <td>93.43</td>\n",
              "      <td>38.11</td>\n",
              "      <td>393000000</td>\n",
              "      <td>31.14</td>\n",
              "      <td>-2.22</td>\n",
              "      <td>-50.33</td>\n",
              "      <td>53.25</td>\n",
              "      <td>NaN</td>\n",
              "      <td>NaN</td>\n",
              "    </tr>\n",
              "    <tr>\n",
              "      <th>5</th>\n",
              "      <td>4/27/2021</td>\n",
              "      <td>88.90</td>\n",
              "      <td>93.25</td>\n",
              "      <td>40.82</td>\n",
              "      <td>402000000</td>\n",
              "      <td>30.61</td>\n",
              "      <td>-2.19</td>\n",
              "      <td>-49.84</td>\n",
              "      <td>61.16</td>\n",
              "      <td>NaN</td>\n",
              "      <td>NaN</td>\n",
              "    </tr>\n",
              "    <tr>\n",
              "      <th>6</th>\n",
              "      <td>4/28/2021</td>\n",
              "      <td>89.30</td>\n",
              "      <td>93.09</td>\n",
              "      <td>42.39</td>\n",
              "      <td>408000000</td>\n",
              "      <td>29.82</td>\n",
              "      <td>-2.06</td>\n",
              "      <td>-46.85</td>\n",
              "      <td>66.83</td>\n",
              "      <td>NaN</td>\n",
              "      <td>NaN</td>\n",
              "    </tr>\n",
              "    <tr>\n",
              "      <th>7</th>\n",
              "      <td>4/29/2021</td>\n",
              "      <td>88.75</td>\n",
              "      <td>92.92</td>\n",
              "      <td>40.90</td>\n",
              "      <td>399000000</td>\n",
              "      <td>28.48</td>\n",
              "      <td>-1.81</td>\n",
              "      <td>-42.37</td>\n",
              "      <td>60.14</td>\n",
              "      <td>NaN</td>\n",
              "      <td>NaN</td>\n",
              "    </tr>\n",
              "    <tr>\n",
              "      <th>8</th>\n",
              "      <td>5/3/2021</td>\n",
              "      <td>91.50</td>\n",
              "      <td>92.80</td>\n",
              "      <td>50.83</td>\n",
              "      <td>443000000</td>\n",
              "      <td>25.69</td>\n",
              "      <td>-1.33</td>\n",
              "      <td>-26.04</td>\n",
              "      <td>75.50</td>\n",
              "      <td>NaN</td>\n",
              "      <td>NaN</td>\n",
              "    </tr>\n",
              "    <tr>\n",
              "      <th>9</th>\n",
              "      <td>5/4/2021</td>\n",
              "      <td>91.50</td>\n",
              "      <td>92.80</td>\n",
              "      <td>50.84</td>\n",
              "      <td>457000000</td>\n",
              "      <td>25.16</td>\n",
              "      <td>-1.08</td>\n",
              "      <td>-16.98</td>\n",
              "      <td>86.11</td>\n",
              "      <td>NaN</td>\n",
              "      <td>NaN</td>\n",
              "    </tr>\n",
              "    <tr>\n",
              "      <th>10</th>\n",
              "      <td>5/5/2021</td>\n",
              "      <td>92.35</td>\n",
              "      <td>92.84</td>\n",
              "      <td>53.83</td>\n",
              "      <td>451000000</td>\n",
              "      <td>24.67</td>\n",
              "      <td>-0.96</td>\n",
              "      <td>-7.56</td>\n",
              "      <td>86.72</td>\n",
              "      <td>NaN</td>\n",
              "      <td>NaN</td>\n",
              "    </tr>\n",
              "    <tr>\n",
              "      <th>11</th>\n",
              "      <td>5/6/2021</td>\n",
              "      <td>92.75</td>\n",
              "      <td>92.84</td>\n",
              "      <td>55.24</td>\n",
              "      <td>465000000</td>\n",
              "      <td>29.11</td>\n",
              "      <td>-0.72</td>\n",
              "      <td>2.24</td>\n",
              "      <td>86.68</td>\n",
              "      <td>NaN</td>\n",
              "      <td>NaN</td>\n",
              "    </tr>\n",
              "    <tr>\n",
              "      <th>12</th>\n",
              "      <td>5/7/2021</td>\n",
              "      <td>94.70</td>\n",
              "      <td>92.79</td>\n",
              "      <td>61.32</td>\n",
              "      <td>484000000</td>\n",
              "      <td>24.89</td>\n",
              "      <td>-0.36</td>\n",
              "      <td>12.62</td>\n",
              "      <td>87.31</td>\n",
              "      <td>NaN</td>\n",
              "      <td>NaN</td>\n",
              "    </tr>\n",
              "    <tr>\n",
              "      <th>13</th>\n",
              "      <td>5/10/2021</td>\n",
              "      <td>99.20</td>\n",
              "      <td>93.04</td>\n",
              "      <td>71.03</td>\n",
              "      <td>521000000</td>\n",
              "      <td>26.37</td>\n",
              "      <td>0.38</td>\n",
              "      <td>24.06</td>\n",
              "      <td>95.71</td>\n",
              "      <td>NaN</td>\n",
              "      <td>NaN</td>\n",
              "    </tr>\n",
              "    <tr>\n",
              "      <th>14</th>\n",
              "      <td>5/11/2021</td>\n",
              "      <td>103.55</td>\n",
              "      <td>93.45</td>\n",
              "      <td>77.04</td>\n",
              "      <td>598000000</td>\n",
              "      <td>28.80</td>\n",
              "      <td>1.23</td>\n",
              "      <td>34.78</td>\n",
              "      <td>96.83</td>\n",
              "      <td>NaN</td>\n",
              "      <td>NaN</td>\n",
              "    </tr>\n",
              "  </tbody>\n",
              "</table>\n",
              "</div>"
            ],
            "text/plain": [
              "         Date  Close Pirce    EMA  ...  M FLOW  Unnamed: 9  Unnamed: 10\n",
              "0   4/16/2021        90.15  94.63  ...   43.00         NaN          NaN\n",
              "1   4/19/2021        88.10  94.37  ...   46.00         NaN          NaN\n",
              "2   4/20/2021        87.80  94.12  ...   53.49         NaN          NaN\n",
              "3   4/22/2021        87.85  93.87  ...   57.00         NaN          NaN\n",
              "4   4/26/2021        88.20  93.43  ...   53.25         NaN          NaN\n",
              "5   4/27/2021        88.90  93.25  ...   61.16         NaN          NaN\n",
              "6   4/28/2021        89.30  93.09  ...   66.83         NaN          NaN\n",
              "7   4/29/2021        88.75  92.92  ...   60.14         NaN          NaN\n",
              "8    5/3/2021        91.50  92.80  ...   75.50         NaN          NaN\n",
              "9    5/4/2021        91.50  92.80  ...   86.11         NaN          NaN\n",
              "10   5/5/2021        92.35  92.84  ...   86.72         NaN          NaN\n",
              "11   5/6/2021        92.75  92.84  ...   86.68         NaN          NaN\n",
              "12   5/7/2021        94.70  92.79  ...   87.31         NaN          NaN\n",
              "13  5/10/2021        99.20  93.04  ...   95.71         NaN          NaN\n",
              "14  5/11/2021       103.55  93.45  ...   96.83         NaN          NaN\n",
              "\n",
              "[15 rows x 11 columns]"
            ]
          },
          "metadata": {
            "tags": []
          },
          "execution_count": 31
        }
      ]
    },
    {
      "cell_type": "code",
      "metadata": {
        "id": "G1XzZXLtGf4v"
      },
      "source": [
        "#create empty list\n",
        "days_data = list()\n",
        "close_price = list()\n",
        "RSI = list()\n",
        "adx = list()\n",
        "macd = list()\n",
        "ema = list()"
      ],
      "execution_count": 32,
      "outputs": []
    },
    {
      "cell_type": "code",
      "metadata": {
        "id": "11yWmxlcHO1Q"
      },
      "source": [
        "df_days = df.loc[:, 'Date']\n",
        "df_close_price = df.loc[:, 'Close Pirce']\n",
        "df_rsi = df.loc[:, 'RSI']\n",
        "df_adx = df.loc[:, 'ADX']\n",
        "df_macd = df.loc[:, 'MACD']\n",
        "df_ema = df.loc[:, 'EMA']\n"
      ],
      "execution_count": 33,
      "outputs": []
    },
    {
      "cell_type": "code",
      "metadata": {
        "id": "SXClw4uBIDdq"
      },
      "source": [
        "#create independant data set of dates and dependeant other\n",
        "for day in df_days:\n",
        "  days_data.append([int(day.split('/')[1])])\n",
        "\n",
        "for closes in df_close_price:\n",
        "  close_price.append(float(closes))\n",
        "\n",
        "for rsis in df_rsi:\n",
        "  RSI.append(float(rsis))\n",
        "\n",
        "for adxs in df_adx:\n",
        "  adx.append(float(adxs))\n",
        "\n",
        "for macds in df_macd:\n",
        "  macd.append(float(macds))\n",
        "\n",
        "for emas in df_ema:\n",
        "  ema.append(float(emas))\n"
      ],
      "execution_count": 34,
      "outputs": []
    },
    {
      "cell_type": "code",
      "metadata": {
        "colab": {
          "base_uri": "https://localhost:8080/"
        },
        "id": "WTiB5V8mLw75",
        "outputId": "bfd882f0-e4cb-42c8-8562-87935f15167c"
      },
      "source": [
        "days_data"
      ],
      "execution_count": 35,
      "outputs": [
        {
          "output_type": "execute_result",
          "data": {
            "text/plain": [
              "[[16],\n",
              " [19],\n",
              " [20],\n",
              " [22],\n",
              " [26],\n",
              " [27],\n",
              " [28],\n",
              " [29],\n",
              " [3],\n",
              " [4],\n",
              " [5],\n",
              " [6],\n",
              " [7],\n",
              " [10],\n",
              " [11]]"
            ]
          },
          "metadata": {
            "tags": []
          },
          "execution_count": 35
        }
      ]
    },
    {
      "cell_type": "code",
      "metadata": {
        "id": "wGmVkFxEMS6T",
        "colab": {
          "base_uri": "https://localhost:8080/"
        },
        "outputId": "5e3123a1-9dbc-4e8e-e2bc-1bcbe11bcd0d"
      },
      "source": [
        "# Show the data\n",
        "adx"
      ],
      "execution_count": null,
      "outputs": [
        {
          "output_type": "execute_result",
          "data": {
            "text/plain": [
              "[31.0,\n",
              " 32.0,\n",
              " 31.81,\n",
              " 33.0,\n",
              " 31.14,\n",
              " 30.61,\n",
              " 29.82,\n",
              " 28.48,\n",
              " 25.69,\n",
              " 25.16,\n",
              " 24.67,\n",
              " 29.11,\n",
              " 24.89,\n",
              " 26.37,\n",
              " 28.8]"
            ]
          },
          "metadata": {
            "tags": []
          },
          "execution_count": 11
        }
      ]
    },
    {
      "cell_type": "code",
      "metadata": {
        "colab": {
          "base_uri": "https://localhost:8080/"
        },
        "id": "9APIbiPxxZqM",
        "outputId": "a3d0d540-ac63-4e27-f98f-b6dc113c8b0d"
      },
      "source": [
        "#Create Model\n",
        "rbf_model = SVR(kernel='rbf', C=1000.0, gamma=0.85)\n",
        "#rbf_model.fit(days_data, close_price, adx) \n",
        "#rbf_model.fit(days_data, close_price, RSI) \n",
        "rbf_model.fit(days_data, close_price, macd) "
      ],
      "execution_count": 36,
      "outputs": [
        {
          "output_type": "execute_result",
          "data": {
            "text/plain": [
              "SVR(C=1000.0, cache_size=200, coef0=0.0, degree=3, epsilon=0.1, gamma=0.85,\n",
              "    kernel='rbf', max_iter=-1, shrinking=True, tol=0.001, verbose=False)"
            ]
          },
          "metadata": {
            "tags": []
          },
          "execution_count": 36
        }
      ]
    },
    {
      "cell_type": "code",
      "metadata": {
        "id": "msPCXiALzisG"
      },
      "source": [
        "#plot the data\n",
        "plt.figure(figsize=(16,8))\n",
        "plt.scatter(days, close_price, RSI, color = 'black', label='Data')"
      ],
      "execution_count": null,
      "outputs": []
    },
    {
      "cell_type": "code",
      "metadata": {
        "colab": {
          "base_uri": "https://localhost:8080/"
        },
        "id": "H54z31Nyz5Hj",
        "outputId": "e295af13-fd81-43f3-bf6e-52bc62397d29"
      },
      "source": [
        "day = [[17]]\n",
        "print('Model prediction: ', rbf_model.predict(day))"
      ],
      "execution_count": 37,
      "outputs": [
        {
          "output_type": "stream",
          "text": [
            "Model prediction:  [101.375]\n"
          ],
          "name": "stdout"
        }
      ]
    }
  ]
}